{
  "nbformat": 4,
  "nbformat_minor": 0,
  "metadata": {
    "colab": {
      "name": "Untitled0.ipynb",
      "provenance": [],
      "authorship_tag": "ABX9TyNTyYPXR4nVL8JWn2HK0meM",
      "include_colab_link": true
    },
    "kernelspec": {
      "name": "python3",
      "display_name": "Python 3"
    },
    "language_info": {
      "name": "python"
    }
  },
  "cells": [
    {
      "cell_type": "markdown",
      "metadata": {
        "id": "view-in-github",
        "colab_type": "text"
      },
      "source": [
        "<a href=\"https://colab.research.google.com/github/ccaiseda/ccaiseda/blob/main/FirstR_Python.ipynb\" target=\"_parent\"><img src=\"https://colab.research.google.com/assets/colab-badge.svg\" alt=\"Open In Colab\"/></a>"
      ]
    },
    {
      "cell_type": "markdown",
      "metadata": {
        "id": "cHo5Aw3XQbip"
      },
      "source": [
        "This is my first google collab file.  The following code is executed to bring this Python to run the statistics software:  R, TOGETHER.  That is we can run one line in Python, another in R"
      ]
    },
    {
      "cell_type": "code",
      "metadata": {
        "id": "q4Y7vu5WQJKa"
      },
      "source": [
        " %load_ext rpy2.ipython"
      ],
      "execution_count": 1,
      "outputs": []
    },
    {
      "cell_type": "markdown",
      "metadata": {
        "id": "IINMbkFLQzna"
      },
      "source": [
        "This is the needed command to make the cell run in R, (vs. the default which is Python)\n",
        "%%R.  For example"
      ]
    },
    {
      "cell_type": "code",
      "metadata": {
        "colab": {
          "base_uri": "https://localhost:8080/"
        },
        "id": "UITHVwxURChg",
        "outputId": "29c34121-1873-4cef-8833-21a22e0e02b6"
      },
      "source": [
        "%%R \n",
        "data <- data.frame(x1= 5:8, x2 = 2.5, x3 = 9)   #Create data example\n",
        "print(data)\n",
        "data[2,]   #extract row of data"
      ],
      "execution_count": 6,
      "outputs": [
        {
          "output_type": "stream",
          "text": [
            "  x1  x2 x3\n",
            "1  5 2.5  9\n",
            "2  6 2.5  9\n",
            "3  7 2.5  9\n",
            "4  8 2.5  9\n",
            "  x1  x2 x3\n",
            "2  6 2.5  9\n"
          ],
          "name": "stdout"
        }
      ]
    },
    {
      "cell_type": "markdown",
      "metadata": {
        "id": "4WjIunp2TW11"
      },
      "source": [
        "Let's build another instruction with R"
      ]
    },
    {
      "cell_type": "code",
      "metadata": {
        "colab": {
          "base_uri": "https://localhost:8080/"
        },
        "id": "tGy1CMIfTrxN",
        "outputId": "675a7281-e898-4e08-ac18-3eddb5d8ece0"
      },
      "source": [
        "%%R\n",
        "data[c(1,4),]"
      ],
      "execution_count": 7,
      "outputs": [
        {
          "output_type": "stream",
          "text": [
            "  x1  x2 x3\n",
            "1  5 2.5  9\n",
            "4  8 2.5  9\n"
          ],
          "name": "stdout"
        }
      ]
    },
    {
      "cell_type": "markdown",
      "metadata": {
        "id": "cElV6eIoUcu2"
      },
      "source": [
        "If you really want to run R, then go to:  https://colab.research.google.com/#create=true&language=r, or this short URL https://colab.to/r "
      ]
    }
  ]
}